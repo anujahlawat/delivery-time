{
 "cells": [
  {
   "cell_type": "code",
   "execution_count": 19,
   "id": "e97d5792",
   "metadata": {},
   "outputs": [],
   "source": [
    "import pandas as pd\n",
    "import numpy as np\n",
    "import matplotlib.pyplot as plt\n",
    "import matplotlib\n",
    "import seaborn as sns              "
   ]
  },
  {
   "cell_type": "code",
   "execution_count": 20,
   "id": "1ffcef6c",
   "metadata": {},
   "outputs": [
    {
     "data": {
      "text/html": [
       "<div>\n",
       "<style scoped>\n",
       "    .dataframe tbody tr th:only-of-type {\n",
       "        vertical-align: middle;\n",
       "    }\n",
       "\n",
       "    .dataframe tbody tr th {\n",
       "        vertical-align: top;\n",
       "    }\n",
       "\n",
       "    .dataframe thead th {\n",
       "        text-align: right;\n",
       "    }\n",
       "</style>\n",
       "<table border=\"1\" class=\"dataframe\">\n",
       "  <thead>\n",
       "    <tr style=\"text-align: right;\">\n",
       "      <th></th>\n",
       "      <th>Delivery Time</th>\n",
       "      <th>Sorting Time</th>\n",
       "    </tr>\n",
       "  </thead>\n",
       "  <tbody>\n",
       "    <tr>\n",
       "      <th>0</th>\n",
       "      <td>21.00</td>\n",
       "      <td>10</td>\n",
       "    </tr>\n",
       "    <tr>\n",
       "      <th>1</th>\n",
       "      <td>13.50</td>\n",
       "      <td>4</td>\n",
       "    </tr>\n",
       "    <tr>\n",
       "      <th>2</th>\n",
       "      <td>19.75</td>\n",
       "      <td>6</td>\n",
       "    </tr>\n",
       "    <tr>\n",
       "      <th>3</th>\n",
       "      <td>24.00</td>\n",
       "      <td>9</td>\n",
       "    </tr>\n",
       "    <tr>\n",
       "      <th>4</th>\n",
       "      <td>29.00</td>\n",
       "      <td>10</td>\n",
       "    </tr>\n",
       "  </tbody>\n",
       "</table>\n",
       "</div>"
      ],
      "text/plain": [
       "   Delivery Time  Sorting Time\n",
       "0          21.00            10\n",
       "1          13.50             4\n",
       "2          19.75             6\n",
       "3          24.00             9\n",
       "4          29.00            10"
      ]
     },
     "execution_count": 20,
     "metadata": {},
     "output_type": "execute_result"
    }
   ],
   "source": [
    "data = pd.read_csv(\"delivery_time.csv\") \n",
    "data.head()"
   ]
  },
  {
   "cell_type": "markdown",
   "id": "47eb9e91",
   "metadata": {},
   "source": [
    "# Performing EDA"
   ]
  },
  {
   "cell_type": "markdown",
   "id": "f64664cb",
   "metadata": {},
   "source": [
    "### 1. Knowing general information and getting data ready"
   ]
  },
  {
   "cell_type": "code",
   "execution_count": 21,
   "id": "8a715fe6",
   "metadata": {},
   "outputs": [],
   "source": [
    "# data.shape               #it tells about no. of records and features\n",
    "# data.columns             #determines column names\n",
    "# data.dtypes              #checking data types\n",
    "# data.isna().sum()        #checking --- is there any null value or not"
   ]
  },
  {
   "cell_type": "code",
   "execution_count": 22,
   "id": "724d75e9",
   "metadata": {},
   "outputs": [
    {
     "name": "stdout",
     "output_type": "stream",
     "text": [
      "<class 'pandas.core.frame.DataFrame'>\n",
      "RangeIndex: 21 entries, 0 to 20\n",
      "Data columns (total 2 columns):\n",
      " #   Column         Non-Null Count  Dtype  \n",
      "---  ------         --------------  -----  \n",
      " 0   Delivery Time  21 non-null     float64\n",
      " 1   Sorting Time   21 non-null     int64  \n",
      "dtypes: float64(1), int64(1)\n",
      "memory usage: 464.0 bytes\n"
     ]
    }
   ],
   "source": [
    "data.info()               #gives information about data"
   ]
  },
  {
   "cell_type": "code",
   "execution_count": 23,
   "id": "7cbc46e9",
   "metadata": {},
   "outputs": [
    {
     "data": {
      "text/plain": [
       "(0, 2)"
      ]
     },
     "execution_count": 23,
     "metadata": {},
     "output_type": "execute_result"
    }
   ],
   "source": [
    "data[data.duplicated()].shape       #checking no. of duplicate records"
   ]
  },
  {
   "cell_type": "code",
   "execution_count": 24,
   "id": "c008f60d",
   "metadata": {},
   "outputs": [],
   "source": [
    "data.rename({'Delivery Time': 'deliverytime'}, axis=1,inplace=True)\n",
    "data.rename({'Sorting Time': 'sortingtime'}, axis=1,inplace=True)"
   ]
  },
  {
   "cell_type": "code",
   "execution_count": 25,
   "id": "a379072c",
   "metadata": {},
   "outputs": [
    {
     "data": {
      "text/html": [
       "<div>\n",
       "<style scoped>\n",
       "    .dataframe tbody tr th:only-of-type {\n",
       "        vertical-align: middle;\n",
       "    }\n",
       "\n",
       "    .dataframe tbody tr th {\n",
       "        vertical-align: top;\n",
       "    }\n",
       "\n",
       "    .dataframe thead th {\n",
       "        text-align: right;\n",
       "    }\n",
       "</style>\n",
       "<table border=\"1\" class=\"dataframe\">\n",
       "  <thead>\n",
       "    <tr style=\"text-align: right;\">\n",
       "      <th></th>\n",
       "      <th>deliverytime</th>\n",
       "      <th>sortingtime</th>\n",
       "    </tr>\n",
       "  </thead>\n",
       "  <tbody>\n",
       "    <tr>\n",
       "      <th>count</th>\n",
       "      <td>21.000000</td>\n",
       "      <td>21.000000</td>\n",
       "    </tr>\n",
       "    <tr>\n",
       "      <th>mean</th>\n",
       "      <td>16.790952</td>\n",
       "      <td>6.190476</td>\n",
       "    </tr>\n",
       "    <tr>\n",
       "      <th>std</th>\n",
       "      <td>5.074901</td>\n",
       "      <td>2.542028</td>\n",
       "    </tr>\n",
       "    <tr>\n",
       "      <th>min</th>\n",
       "      <td>8.000000</td>\n",
       "      <td>2.000000</td>\n",
       "    </tr>\n",
       "    <tr>\n",
       "      <th>25%</th>\n",
       "      <td>13.500000</td>\n",
       "      <td>4.000000</td>\n",
       "    </tr>\n",
       "    <tr>\n",
       "      <th>50%</th>\n",
       "      <td>17.830000</td>\n",
       "      <td>6.000000</td>\n",
       "    </tr>\n",
       "    <tr>\n",
       "      <th>75%</th>\n",
       "      <td>19.750000</td>\n",
       "      <td>8.000000</td>\n",
       "    </tr>\n",
       "    <tr>\n",
       "      <th>max</th>\n",
       "      <td>29.000000</td>\n",
       "      <td>10.000000</td>\n",
       "    </tr>\n",
       "  </tbody>\n",
       "</table>\n",
       "</div>"
      ],
      "text/plain": [
       "       deliverytime  sortingtime\n",
       "count     21.000000    21.000000\n",
       "mean      16.790952     6.190476\n",
       "std        5.074901     2.542028\n",
       "min        8.000000     2.000000\n",
       "25%       13.500000     4.000000\n",
       "50%       17.830000     6.000000\n",
       "75%       19.750000     8.000000\n",
       "max       29.000000    10.000000"
      ]
     },
     "execution_count": 25,
     "metadata": {},
     "output_type": "execute_result"
    }
   ],
   "source": [
    "data.describe()                     #gives description about data"
   ]
  },
  {
   "cell_type": "markdown",
   "id": "a7a608e5",
   "metadata": {},
   "source": [
    "### 2. data visualization"
   ]
  },
  {
   "cell_type": "markdown",
   "id": "cd33de8d",
   "metadata": {},
   "source": [
    "#### a) scatterplot"
   ]
  },
  {
   "cell_type": "code",
   "execution_count": 26,
   "id": "f41d1433",
   "metadata": {},
   "outputs": [
    {
     "data": {
      "text/plain": [
       "<AxesSubplot:xlabel='sortingtime', ylabel='deliverytime'>"
      ]
     },
     "execution_count": 26,
     "metadata": {},
     "output_type": "execute_result"
    },
    {
     "data": {
      "image/png": "[encoded data removed]",
      "text/plain": [
       "<Figure size 432x288 with 1 Axes>"
      ]
     },
     "metadata": {
      "needs_background": "light"
     },
     "output_type": "display_data"
    }
   ],
   "source": [
    "sns.scatterplot(x=data['sortingtime'],y = data['deliverytime'])    #data is scattered along a straight line (linear regression)"
   ]
  },
  {
   "cell_type": "markdown",
   "id": "550565b9",
   "metadata": {},
   "source": [
    "#### b) boxplot"
   ]
  },
  {
   "cell_type": "code",
   "execution_count": 28,
   "id": "2ab7feac",
   "metadata": {},
   "outputs": [
    {
     "data": {
      "image/png": "[encoded data removed]",
      "text/plain": [
       "<Figure size 432x288 with 1 Axes>"
      ]
     },
     "metadata": {
      "needs_background": "light"
     },
     "output_type": "display_data"
    }
   ],
   "source": [
    "plt.ylabel(\"deliverytime\", fontsize = 13 )                                         \n",
    "box=plt.boxplot(x='deliverytime',data=data)      #checking outliers\n",
    "                                                 #here no outlier and curve is right skewed and orange line denotes median"
   ]
  },
  {
   "cell_type": "markdown",
   "id": "3219a889",
   "metadata": {},
   "source": [
    "#### c-1) influential points using cook's distance (method 1)"
   ]
  },
  {
   "cell_type": "code",
   "execution_count": 29,
   "id": "00856f65",
   "metadata": {},
   "outputs": [
    {
     "data": {
      "image/png": "[encoded data removed]",
      "text/plain": [
       "<Figure size 1440x504 with 1 Axes>"
      ]
     },
     "metadata": {
      "needs_background": "light"
     },
     "output_type": "display_data"
    },
    {
     "name": "stdout",
     "output_type": "stream",
     "text": [
      "point having maximum cook's distance is : \n"
     ]
    },
    {
     "data": {
      "text/plain": [
       "(4, 0.4620530412650319)"
      ]
     },
     "execution_count": 29,
     "metadata": {},
     "output_type": "execute_result"
    }
   ],
   "source": [
    "import statsmodels.formula.api as smf \n",
    "model = smf.ols('deliverytime~sortingtime',data=data).fit()\n",
    "\n",
    "model_influence = model.get_influence()\n",
    "(c , _) = model_influence.cooks_distance\n",
    "\n",
    "fig = plt.subplots(figsize=(20, 7))\n",
    "plt.stem(np.arange(len(data)), np.round(c, 3))\n",
    "plt.xlabel('Row index')\n",
    "plt.ylabel('Cooks Distance')\n",
    "plt.show()\n",
    "\n",
    "print(\"point having maximum cook's distance is : \")\n",
    "(np.argmax(c),np.max(c))      #we got no influential point"
   ]
  },
  {
   "cell_type": "markdown",
   "id": "60cc3cf1",
   "metadata": {},
   "source": [
    "#### c-2) influential points using bubble method (method 2)"
   ]
  },
  {
   "cell_type": "code",
   "execution_count": 30,
   "id": "2b582cd9",
   "metadata": {},
   "outputs": [
    {
     "data": {
      "image/png": "[encoded data removed]",
      "text/plain": [
       "<Figure size 432x288 with 1 Axes>"
      ]
     },
     "metadata": {
      "needs_background": "light"
     },
     "output_type": "display_data"
    },
    {
     "name": "stdout",
     "output_type": "stream",
     "text": [
      "leverage_cutoff is :  0.42857142857142855\n"
     ]
    }
   ],
   "source": [
    "from statsmodels.graphics.regressionplots import influence_plot\n",
    "influence_plot(model)\n",
    "plt.show()\n",
    "\n",
    "k = data.shape[1]\n",
    "n = data.shape[0]\n",
    "leverage_cutoff = 3*((k + 1)/n)                               #k = no. of columns ; n = no. of records\n",
    "print(\"leverage_cutoff is : \",leverage_cutoff)                #we got no influential point \n",
    "                                     #point having leverage value greater than leverage cutoff is actually a influential point"
   ]
  },
  {
   "cell_type": "markdown",
   "id": "0de661d4",
   "metadata": {},
   "source": [
    "### 3. Correlation"
   ]
  },
  {
   "cell_type": "code",
   "execution_count": 35,
   "id": "73f9d8af",
   "metadata": {},
   "outputs": [
    {
     "data": {
      "text/html": [
       "<div>\n",
       "<style scoped>\n",
       "    .dataframe tbody tr th:only-of-type {\n",
       "        vertical-align: middle;\n",
       "    }\n",
       "\n",
       "    .dataframe tbody tr th {\n",
       "        vertical-align: top;\n",
       "    }\n",
       "\n",
       "    .dataframe thead th {\n",
       "        text-align: right;\n",
       "    }\n",
       "</style>\n",
       "<table border=\"1\" class=\"dataframe\">\n",
       "  <thead>\n",
       "    <tr style=\"text-align: right;\">\n",
       "      <th></th>\n",
       "      <th>deliverytime</th>\n",
       "      <th>sortingtime</th>\n",
       "    </tr>\n",
       "  </thead>\n",
       "  <tbody>\n",
       "    <tr>\n",
       "      <th>deliverytime</th>\n",
       "      <td>1.000000</td>\n",
       "      <td>0.825997</td>\n",
       "    </tr>\n",
       "    <tr>\n",
       "      <th>sortingtime</th>\n",
       "      <td>0.825997</td>\n",
       "      <td>1.000000</td>\n",
       "    </tr>\n",
       "  </tbody>\n",
       "</table>\n",
       "</div>"
      ],
      "text/plain": [
       "              deliverytime  sortingtime\n",
       "deliverytime      1.000000     0.825997\n",
       "sortingtime       0.825997     1.000000"
      ]
     },
     "execution_count": 35,
     "metadata": {},
     "output_type": "execute_result"
    }
   ],
   "source": [
    "data.corr()                    #if we got good correlation between x and y then we can go for model building\n",
    "                               #note : x = sortingtime    y = delivery time"
   ]
  },
  {
   "cell_type": "markdown",
   "id": "46b439c3",
   "metadata": {},
   "source": [
    "#### a. heatmap"
   ]
  },
  {
   "cell_type": "code",
   "execution_count": 34,
   "id": "09c57ba0",
   "metadata": {},
   "outputs": [
    {
     "data": {
      "text/plain": [
       "<AxesSubplot:>"
      ]
     },
     "execution_count": 34,
     "metadata": {},
     "output_type": "execute_result"
    },
    {
     "data": {
      "image/png": "[encoded data removed]",
      "text/plain": [
       "<Figure size 432x288 with 2 Axes>"
      ]
     },
     "metadata": {
      "needs_background": "light"
     },
     "output_type": "display_data"
    }
   ],
   "source": [
    "sns.set_context('paper', font_scale=1.4)\n",
    "correlation = data.corr()\n",
    "\n",
    "sns.heatmap(correlation, \n",
    "            annot=True, \n",
    "            cmap='Blues'\n",
    "           )"
   ]
  },
  {
   "cell_type": "markdown",
   "id": "420ca017",
   "metadata": {},
   "source": [
    "# fitting of simple linear regression"
   ]
  },
  {
   "cell_type": "markdown",
   "id": "14ae96de",
   "metadata": {},
   "source": [
    "### 1. ols method (using statmodels package)"
   ]
  },
  {
   "cell_type": "markdown",
   "id": "057bee88",
   "metadata": {},
   "source": [
    "#### a) building model"
   ]
  },
  {
   "cell_type": "code",
   "execution_count": 36,
   "id": "f61dae5f",
   "metadata": {},
   "outputs": [
    {
     "name": "stdout",
     "output_type": "stream",
     "text": [
      "                            OLS Regression Results                            \n",
      "==============================================================================\n",
      "Dep. Variable:           deliverytime   R-squared:                       0.682\n",
      "Model:                            OLS   Adj. R-squared:                  0.666\n",
      "Method:                 Least Squares   F-statistic:                     40.80\n",
      "Date:                Thu, 15 Sep 2022   Prob (F-statistic):           3.98e-06\n",
      "Time:                        01:07:15   Log-Likelihood:                -51.357\n",
      "No. Observations:                  21   AIC:                             106.7\n",
      "Df Residuals:                      19   BIC:                             108.8\n",
      "Df Model:                           1                                         \n",
      "Covariance Type:            nonrobust                                         \n",
      "===============================================================================\n",
      "                  coef    std err          t      P>|t|      [0.025      0.975]\n",
      "-------------------------------------------------------------------------------\n",
      "Intercept       6.5827      1.722      3.823      0.001       2.979      10.186\n",
      "sortingtime     1.6490      0.258      6.387      0.000       1.109       2.189\n",
      "==============================================================================\n",
      "Omnibus:                        3.649   Durbin-Watson:                   1.248\n",
      "Prob(Omnibus):                  0.161   Jarque-Bera (JB):                2.086\n",
      "Skew:                           0.750   Prob(JB):                        0.352\n",
      "Kurtosis:                       3.367   Cond. No.                         18.3\n",
      "==============================================================================\n",
      "\n",
      "Notes:\n",
      "[1] Standard Errors assume that the covariance matrix of the errors is correctly specified.\n"
     ]
    }
   ],
   "source": [
    "import statsmodels.formula.api as sms\n",
    "model = sms.ols(\"deliverytime~sortingtime\",data=data).fit()           #we cann't use y~x in case of ols method\n",
    "print(model.summary())\n",
    "\n",
    "#we get good value for R-squared\n",
    "#\n",
    "#null hypothesis : beta_1 (coeff. of sortingtime) = 0\n",
    "#alternate hypothesis : beta_1 != 0\n",
    "#p-low  null-go , hence null hypothesis rejected and alternate hypothesis accepted it means there is a relation between x and y\n",
    "#note : x = sortingtime    y = delivery time"
   ]
  },
  {
   "cell_type": "markdown",
   "id": "2f6754eb",
   "metadata": {},
   "source": [
    "#### b) prediction for given data"
   ]
  },
  {
   "cell_type": "code",
   "execution_count": 37,
   "id": "fa753c83",
   "metadata": {},
   "outputs": [
    {
     "name": "stdout",
     "output_type": "stream",
     "text": [
      "   deliverytime  sortingtime  predicted_dtime\n",
      "0         21.00           10        23.072933\n",
      "1         13.50            4        13.178814\n",
      "2         19.75            6        16.476853\n",
      "3         24.00            9        21.423913\n",
      "4         29.00           10        23.072933\n"
     ]
    },
    {
     "data": {
      "text/plain": [
       "[<matplotlib.lines.Line2D at 0x2245d446af0>]"
      ]
     },
     "execution_count": 37,
     "metadata": {},
     "output_type": "execute_result"
    },
    {
     "data": {
      "image/png": "[encoded data removed]",
      "text/plain": [
       "<Figure size 432x288 with 1 Axes>"
      ]
     },
     "metadata": {
      "needs_background": "light"
     },
     "output_type": "display_data"
    }
   ],
   "source": [
    "pred = model.predict(data[\"sortingtime\"])\n",
    "predicted_dtime = pd.Series(data = pred,name='predicted_dtime')\n",
    "\n",
    "data1=pd.concat([data,predicted_dtime],axis=1)\n",
    "print(data1.head())\n",
    "\n",
    "plt.scatter(data[\"sortingtime\"], data[\"deliverytime\"], color='red')\n",
    "plt.plot(data[\"sortingtime\"],pred)"
   ]
  },
  {
   "cell_type": "markdown",
   "id": "73ff8a2e",
   "metadata": {},
   "source": [
    "#### c) prediction for new value"
   ]
  },
  {
   "cell_type": "code",
   "execution_count": 38,
   "id": "dc880c59",
   "metadata": {},
   "outputs": [
    {
     "name": "stdout",
     "output_type": "stream",
     "text": [
      "enter sorting time for which you want to find delivery time : 8\n",
      "delivery time for sorting time :  8.0 is :  0    19.774893\n",
      "dtype: float64\n"
     ]
    }
   ],
   "source": [
    "value = float(input(\"enter sorting time for which you want to find delivery time : \"))   #here float is used for ols method only\n",
    "valueseries=pd.Series([value])\n",
    "valuedf=pd.DataFrame(valueseries,columns=['sortingtime'])\n",
    "valuedf\n",
    "\n",
    "time=model.predict(valuedf)\n",
    "print(\"delivery time for sorting time : \",value, \"is : \",time)"
   ]
  },
  {
   "cell_type": "markdown",
   "id": "246b0be3",
   "metadata": {},
   "source": [
    "### 2. LeaveOneOut Model Validation Technique"
   ]
  },
  {
   "cell_type": "code",
   "execution_count": 39,
   "id": "39b599ba",
   "metadata": {},
   "outputs": [],
   "source": [
    "x = data.iloc[:, 1:2].values   #separating the dependent and independent features \n",
    "                               #[note: [:,0] -> column at index 0 in the form of row vector]\n",
    "y = data.iloc[:, 0].values     #x - sorting time (independent); y - delivery time (dependent)\n",
    "                               #[note:y's value row vector ki form m likhte h]"
   ]
  },
  {
   "cell_type": "markdown",
   "id": "d2cbfa10",
   "metadata": {},
   "source": [
    "#### a) building model"
   ]
  },
  {
   "cell_type": "code",
   "execution_count": 40,
   "id": "033262e4",
   "metadata": {},
   "outputs": [
    {
     "name": "stdout",
     "output_type": "stream",
     "text": [
      "LeaveOneOut()\n",
      "[0.63392505 0.55484248]\n"
     ]
    },
    {
     "data": {
      "text/plain": [
       "59.4383761394709"
      ]
     },
     "execution_count": 40,
     "metadata": {},
     "output_type": "execute_result"
    }
   ],
   "source": [
    "from sklearn.model_selection import LeaveOneOut\n",
    "from sklearn.model_selection import cross_val_score\n",
    "from sklearn.linear_model import LinearRegression\n",
    "loocv = LeaveOneOut()\n",
    "loocv.get_n_splits(x)\n",
    "print(loocv)\n",
    "model = LinearRegression()\n",
    "model.fit(x,y)\n",
    "results = cross_val_score(model, x, y, cv=2)\n",
    "print(results)\n",
    "results.mean()*100.0"
   ]
  },
  {
   "cell_type": "markdown",
   "id": "4e525bac",
   "metadata": {},
   "source": [
    "#### b) prediction for given data"
   ]
  },
  {
   "cell_type": "code",
   "execution_count": 41,
   "id": "eaa9c4e0",
   "metadata": {},
   "outputs": [
    {
     "name": "stdout",
     "output_type": "stream",
     "text": [
      "   deliverytime  sortingtime  predicted_dtime\n",
      "0         21.00           10        23.072933\n",
      "1         13.50            4        13.178814\n",
      "2         19.75            6        16.476853\n",
      "3         24.00            9        21.423913\n",
      "4         29.00           10        23.072933\n"
     ]
    },
    {
     "data": {
      "text/plain": [
       "[<matplotlib.lines.Line2D at 0x2245ecd1d00>]"
      ]
     },
     "execution_count": 41,
     "metadata": {},
     "output_type": "execute_result"
    },
    {
     "data": {
      "image/png": "[encoded data removed]",
      "text/plain": [
       "<Figure size 432x288 with 1 Axes>"
      ]
     },
     "metadata": {
      "needs_background": "light"
     },
     "output_type": "display_data"
    }
   ],
   "source": [
    "pred = model.predict(x)\n",
    "predicted_dtime = pd.Series(data = pred,name='predicted_dtime')\n",
    "\n",
    "data1=pd.concat([data,predicted_dtime],axis=1)\n",
    "print(data1.head())\n",
    "\n",
    "plt.scatter(x, y, color='red')\n",
    "plt.plot(x,pred)"
   ]
  },
  {
   "cell_type": "markdown",
   "id": "3490ec85",
   "metadata": {},
   "source": [
    "#### c) prediction for new value"
   ]
  },
  {
   "cell_type": "code",
   "execution_count": 42,
   "id": "f745d6db",
   "metadata": {},
   "outputs": [
    {
     "name": "stdout",
     "output_type": "stream",
     "text": [
      "enter sorting for which you want to find delivery time8\n",
      "delivery time for person having 8 experience is :  [19.77489315]\n"
     ]
    }
   ],
   "source": [
    "value = input(\"enter sorting for which you want to find delivery time\")\n",
    "valueseries=pd.Series([value])\n",
    "valuedf=pd.DataFrame(valueseries,columns=['sortingtime'])\n",
    "valuedf\n",
    "\n",
    "time=model.predict(valuedf)\n",
    "print(\"delivery time for person having\",value, \"experience is : \",time)"
   ]
  },
  {
   "cell_type": "markdown",
   "id": "4fd19165",
   "metadata": {},
   "source": [
    "### 3. KFold Model Validation Technique"
   ]
  },
  {
   "cell_type": "code",
   "execution_count": 43,
   "id": "060d833b",
   "metadata": {},
   "outputs": [],
   "source": [
    "x = data.iloc[:, 1:2].values   #separating the dependent and independent features \n",
    "                               #[note: [:,0] -> column at index 0 in the form of row vector]\n",
    "y = data.iloc[:, 0].values     #x - sorting time (independent); y - delivery time (dependent)\n",
    "                               #[note:y's value row vector ki form m likhte h]"
   ]
  },
  {
   "cell_type": "markdown",
   "id": "dbc94c78",
   "metadata": {},
   "source": [
    "#### a) building model"
   ]
  },
  {
   "cell_type": "code",
   "execution_count": 44,
   "id": "e2028f9e",
   "metadata": {},
   "outputs": [
    {
     "name": "stdout",
     "output_type": "stream",
     "text": [
      "[-1.02075996  0.79965647  0.42521191  0.47586105  0.96532833]\n"
     ]
    },
    {
     "data": {
      "text/plain": [
       "32.90595615670227"
      ]
     },
     "execution_count": 44,
     "metadata": {},
     "output_type": "execute_result"
    }
   ],
   "source": [
    "from sklearn.model_selection import KFold\n",
    "from sklearn.model_selection import cross_val_score\n",
    "from sklearn.linear_model import LinearRegression\n",
    "kfold = KFold(n_splits=5,shuffle=True, random_state=42)\n",
    "model = LinearRegression()\n",
    "model.fit(x,y)\n",
    "results = cross_val_score(model, x, y, cv=kfold)           #we can also assign numeric value to cv\n",
    "print(results)\n",
    "results.mean()*100.0"
   ]
  },
  {
   "cell_type": "markdown",
   "id": "12206854",
   "metadata": {},
   "source": [
    "#### b) prediction for given data"
   ]
  },
  {
   "cell_type": "code",
   "execution_count": 45,
   "id": "50a506d4",
   "metadata": {},
   "outputs": [
    {
     "name": "stdout",
     "output_type": "stream",
     "text": [
      "   deliverytime  sortingtime  predicted_dtime\n",
      "0         21.00           10        23.072933\n",
      "1         13.50            4        13.178814\n",
      "2         19.75            6        16.476853\n",
      "3         24.00            9        21.423913\n",
      "4         29.00           10        23.072933\n"
     ]
    },
    {
     "data": {
      "text/plain": [
       "[<matplotlib.lines.Line2D at 0x2245ed41c40>]"
      ]
     },
     "execution_count": 45,
     "metadata": {},
     "output_type": "execute_result"
    },
    {
     "data": {
      "image/png": "[encoded data removed]",
      "text/plain": [
       "<Figure size 432x288 with 1 Axes>"
      ]
     },
     "metadata": {
      "needs_background": "light"
     },
     "output_type": "display_data"
    }
   ],
   "source": [
    "pred = model.predict(x)\n",
    "predicted_dtime = pd.Series(data = pred,name='predicted_dtime')\n",
    "\n",
    "data1=pd.concat([data,predicted_dtime],axis=1)\n",
    "print(data1.head())\n",
    "\n",
    "plt.scatter(x, y, color='red')\n",
    "plt.plot(x,pred)"
   ]
  },
  {
   "cell_type": "markdown",
   "id": "e38137b9",
   "metadata": {},
   "source": [
    "#### c) prediction for new value"
   ]
  },
  {
   "cell_type": "code",
   "execution_count": 46,
   "id": "98e68c67",
   "metadata": {},
   "outputs": [
    {
     "name": "stdout",
     "output_type": "stream",
     "text": [
      "enter sorting for which you want to find delivery time8\n",
      "delivery time for person having 8 experience is :  [19.77489315]\n"
     ]
    }
   ],
   "source": [
    "value = input(\"enter sorting for which you want to find delivery time\")\n",
    "valueseries=pd.Series([value])\n",
    "valuedf=pd.DataFrame(valueseries,columns=['sortingtime'])\n",
    "valuedf\n",
    "\n",
    "time=model.predict(valuedf)\n",
    "print(\"delivery time for person having\",value, \"experience is : \",time)"
   ]
  },
  {
   "cell_type": "markdown",
   "id": "2c5caf74",
   "metadata": {},
   "source": [
    "### 4. train_test_split Model Validation Technique"
   ]
  },
  {
   "cell_type": "code",
   "execution_count": 47,
   "id": "8c5e6969",
   "metadata": {},
   "outputs": [],
   "source": [
    "x = data.iloc[:, 1:2].values   #separating the dependent and independent features \n",
    "                               #[note: [:,0] -> column at index 0 in the form of row vector]\n",
    "y = data.iloc[:, 0].values     #x - sorting time (independent); y - delivery time (dependent)\n",
    "                               #[note:y's value row vector ki form m likhte h]"
   ]
  },
  {
   "cell_type": "markdown",
   "id": "7fed6aee",
   "metadata": {},
   "source": [
    "#### a) building model"
   ]
  },
  {
   "cell_type": "code",
   "execution_count": 48,
   "id": "e493b22b",
   "metadata": {},
   "outputs": [
    {
     "name": "stdout",
     "output_type": "stream",
     "text": [
      "0.6132975651849395\n",
      "0.6682342232006111\n"
     ]
    }
   ],
   "source": [
    "from sklearn.model_selection import train_test_split\n",
    "from sklearn.linear_model import LinearRegression\n",
    "X_train, X_test, Y_train, Y_test = train_test_split(x, y, test_size=0.20,random_state=7)\n",
    "model = LinearRegression()\n",
    "model.fit(X_train, Y_train)\n",
    "result1 = model.score(X_train, Y_train)\n",
    "result2 = model.score(X_test, Y_test)\n",
    "print(result1)\n",
    "print(result2)"
   ]
  },
  {
   "cell_type": "markdown",
   "id": "ce04e1fc",
   "metadata": {},
   "source": [
    "#### b) prediction for given data"
   ]
  },
  {
   "cell_type": "code",
   "execution_count": 49,
   "id": "ab2c0102",
   "metadata": {},
   "outputs": [
    {
     "name": "stdout",
     "output_type": "stream",
     "text": [
      "   deliverytime  sortingtime  predicted_dtime\n",
      "0         21.00           10        22.748479\n",
      "1         13.50            4        13.665902\n",
      "2         19.75            6        16.693428\n",
      "3         24.00            9        21.234716\n",
      "4         29.00           10        22.748479\n"
     ]
    },
    {
     "data": {
      "text/plain": [
       "[<matplotlib.lines.Line2D at 0x2245edbd100>]"
      ]
     },
     "execution_count": 49,
     "metadata": {},
     "output_type": "execute_result"
    },
    {
     "data": {
      "image/png": "[encoded data removed]",
      "text/plain": [
       "<Figure size 432x288 with 1 Axes>"
      ]
     },
     "metadata": {
      "needs_background": "light"
     },
     "output_type": "display_data"
    }
   ],
   "source": [
    "pred = model.predict(x)\n",
    "predicted_dtime = pd.Series(data = pred,name='predicted_dtime')\n",
    "\n",
    "data1=pd.concat([data,predicted_dtime],axis=1)\n",
    "print(data1.head())\n",
    "\n",
    "plt.scatter(x, y, color='red')\n",
    "plt.plot(x,pred)"
   ]
  },
  {
   "cell_type": "markdown",
   "id": "a296da65",
   "metadata": {},
   "source": [
    "#### c) prediction for new value"
   ]
  },
  {
   "cell_type": "code",
   "execution_count": 50,
   "id": "8ba89e81",
   "metadata": {},
   "outputs": [
    {
     "name": "stdout",
     "output_type": "stream",
     "text": [
      "enter sorting for which you want to find delivery time8\n",
      "delivery time for person having 8 experience is :  [19.72095361]\n"
     ]
    }
   ],
   "source": [
    "value = input(\"enter sorting for which you want to find delivery time\")\n",
    "valueseries=pd.Series([value])\n",
    "valuedf=pd.DataFrame(valueseries,columns=['sortingtime'])\n",
    "valuedf\n",
    "\n",
    "time=model.predict(valuedf)\n",
    "print(\"delivery time for person having\",value, \"experience is : \",time)"
   ]
  },
  {
   "cell_type": "code",
   "execution_count": null,
   "id": "f6cd9a61",
   "metadata": {},
   "outputs": [],
   "source": []
  }
 ],
 "metadata": {
  "kernelspec": {
   "display_name": "Python 3 (ipykernel)",
   "language": "python",
   "name": "python3"
  },
  "language_info": {
   "codemirror_mode": {
    "name": "ipython",
    "version": 3
   },
   "file_extension": ".py",
   "mimetype": "text/x-python",
   "name": "python",
   "nbconvert_exporter": "python",
   "pygments_lexer": "ipython3",
   "version": "3.9.7"
  }
 },
 "nbformat": 4,
 "nbformat_minor": 5
}
